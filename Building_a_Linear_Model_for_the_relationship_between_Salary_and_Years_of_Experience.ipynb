{
  "nbformat": 4,
  "nbformat_minor": 0,
  "metadata": {
    "colab": {
      "provenance": [],
      "authorship_tag": "ABX9TyPi5SF7LNv0Z324wmgWI44F",
      "include_colab_link": true
    },
    "kernelspec": {
      "name": "ir",
      "display_name": "R"
    },
    "language_info": {
      "name": "R"
    }
  },
  "cells": [
    {
      "cell_type": "markdown",
      "metadata": {
        "id": "view-in-github",
        "colab_type": "text"
      },
      "source": [
        "<a href=\"https://colab.research.google.com/github/laresamdeola/r-projects/blob/main/Building_a_Linear_Model_for_the_relationship_between_Salary_and_Years_of_Experience.ipynb\" target=\"_parent\"><img src=\"https://colab.research.google.com/assets/colab-badge.svg\" alt=\"Open In Colab\"/></a>"
      ]
    },
    {
      "cell_type": "code",
      "execution_count": 3,
      "metadata": {
        "colab": {
          "base_uri": "https://localhost:8080/"
        },
        "id": "Pr-CJTip1pil",
        "outputId": "b1f2d1aa-b225-4b63-c3b2-bdc18c892f3a"
      },
      "outputs": [
        {
          "output_type": "stream",
          "name": "stderr",
          "text": [
            "Installing package into ‘/usr/local/lib/R/site-library’\n",
            "(as ‘lib’ is unspecified)\n",
            "\n",
            "also installing the dependency ‘bitops’\n",
            "\n",
            "\n"
          ]
        }
      ],
      "source": [
        "# Import the libraries - this is for splitting the dataset into the train and test set\n",
        "\n",
        "install.packages(\"caTools\")"
      ]
    },
    {
      "cell_type": "code",
      "source": [
        "# splitting the dataset into the train and test set to avoid information leakage\n",
        "\n",
        "dataset = read.csv(\"Salary_Data.csv\")\n",
        "library(caTools)\n",
        "set.seed(123)\n",
        "split = sample.split(dataset$Salary, SplitRatio = 2/3)\n",
        "training_set = subset(dataset, split == TRUE)\n",
        "test_set = subset(dataset, split == FALSE)"
      ],
      "metadata": {
        "id": "8lHZCssbYdXf"
      },
      "execution_count": 5,
      "outputs": []
    },
    {
      "cell_type": "code",
      "source": [
        "test_set"
      ],
      "metadata": {
        "colab": {
          "base_uri": "https://localhost:8080/",
          "height": 412
        },
        "id": "ajLsYDDHZFVZ",
        "outputId": "95ea61db-a089-428d-ac06-91d3a16326a6"
      },
      "execution_count": 8,
      "outputs": [
        {
          "output_type": "display_data",
          "data": {
            "text/html": [
              "<table class=\"dataframe\">\n",
              "<caption>A data.frame: 10 × 2</caption>\n",
              "<thead>\n",
              "\t<tr><th></th><th scope=col>YearsExperience</th><th scope=col>Salary</th></tr>\n",
              "\t<tr><th></th><th scope=col>&lt;dbl&gt;</th><th scope=col>&lt;dbl&gt;</th></tr>\n",
              "</thead>\n",
              "<tbody>\n",
              "\t<tr><th scope=row>2</th><td>1.3</td><td> 46205</td></tr>\n",
              "\t<tr><th scope=row>4</th><td>2.0</td><td> 43525</td></tr>\n",
              "\t<tr><th scope=row>5</th><td>2.2</td><td> 39891</td></tr>\n",
              "\t<tr><th scope=row>8</th><td>3.2</td><td> 54445</td></tr>\n",
              "\t<tr><th scope=row>11</th><td>3.9</td><td> 63218</td></tr>\n",
              "\t<tr><th scope=row>16</th><td>4.9</td><td> 67938</td></tr>\n",
              "\t<tr><th scope=row>20</th><td>6.0</td><td> 93940</td></tr>\n",
              "\t<tr><th scope=row>21</th><td>6.8</td><td> 91738</td></tr>\n",
              "\t<tr><th scope=row>24</th><td>8.2</td><td>113812</td></tr>\n",
              "\t<tr><th scope=row>26</th><td>9.0</td><td>105582</td></tr>\n",
              "</tbody>\n",
              "</table>\n"
            ],
            "text/markdown": "\nA data.frame: 10 × 2\n\n| <!--/--> | YearsExperience &lt;dbl&gt; | Salary &lt;dbl&gt; |\n|---|---|---|\n| 2 | 1.3 |  46205 |\n| 4 | 2.0 |  43525 |\n| 5 | 2.2 |  39891 |\n| 8 | 3.2 |  54445 |\n| 11 | 3.9 |  63218 |\n| 16 | 4.9 |  67938 |\n| 20 | 6.0 |  93940 |\n| 21 | 6.8 |  91738 |\n| 24 | 8.2 | 113812 |\n| 26 | 9.0 | 105582 |\n\n",
            "text/latex": "A data.frame: 10 × 2\n\\begin{tabular}{r|ll}\n  & YearsExperience & Salary\\\\\n  & <dbl> & <dbl>\\\\\n\\hline\n\t2 & 1.3 &  46205\\\\\n\t4 & 2.0 &  43525\\\\\n\t5 & 2.2 &  39891\\\\\n\t8 & 3.2 &  54445\\\\\n\t11 & 3.9 &  63218\\\\\n\t16 & 4.9 &  67938\\\\\n\t20 & 6.0 &  93940\\\\\n\t21 & 6.8 &  91738\\\\\n\t24 & 8.2 & 113812\\\\\n\t26 & 9.0 & 105582\\\\\n\\end{tabular}\n",
            "text/plain": [
              "   YearsExperience Salary\n",
              "2  1.3              46205\n",
              "4  2.0              43525\n",
              "5  2.2              39891\n",
              "8  3.2              54445\n",
              "11 3.9              63218\n",
              "16 4.9              67938\n",
              "20 6.0              93940\n",
              "21 6.8              91738\n",
              "24 8.2             113812\n",
              "26 9.0             105582"
            ]
          },
          "metadata": {}
        }
      ]
    },
    {
      "cell_type": "code",
      "source": [
        "# fitting the linear model to the dataset(training data)\n",
        "\n",
        "regressor = lm(formula = Salary ~ YearsExperience,\n",
        "                data = training_set)"
      ],
      "metadata": {
        "id": "YLwKyW1IaSmT"
      },
      "execution_count": 9,
      "outputs": []
    },
    {
      "cell_type": "code",
      "source": [
        "# Get the summary statistics of the linear model\n",
        "\n",
        "summary(regressor)"
      ],
      "metadata": {
        "colab": {
          "base_uri": "https://localhost:8080/",
          "height": 329
        },
        "id": "UsZMfE22aS9e",
        "outputId": "ad6ac3ae-e353-4313-c167-1efe492a7327"
      },
      "execution_count": 10,
      "outputs": [
        {
          "output_type": "display_data",
          "data": {
            "text/plain": [
              "\n",
              "Call:\n",
              "lm(formula = Salary ~ YearsExperience, data = training_set)\n",
              "\n",
              "Residuals:\n",
              "    Min      1Q  Median      3Q     Max \n",
              "-7325.1 -3814.4   427.7  3559.7  8884.6 \n",
              "\n",
              "Coefficients:\n",
              "                Estimate Std. Error t value Pr(>|t|)    \n",
              "(Intercept)        25592       2646   9.672 1.49e-08 ***\n",
              "YearsExperience     9365        421  22.245 1.52e-14 ***\n",
              "---\n",
              "Signif. codes:  0 ‘***’ 0.001 ‘**’ 0.01 ‘*’ 0.05 ‘.’ 0.1 ‘ ’ 1\n",
              "\n",
              "Residual standard error: 5391 on 18 degrees of freedom\n",
              "Multiple R-squared:  0.9649,\tAdjusted R-squared:  0.963 \n",
              "F-statistic: 494.8 on 1 and 18 DF,  p-value: 1.524e-14\n"
            ]
          },
          "metadata": {}
        }
      ]
    },
    {
      "cell_type": "code",
      "source": [],
      "metadata": {
        "id": "eB2kZGGybkXQ"
      },
      "execution_count": null,
      "outputs": []
    }
  ]
}