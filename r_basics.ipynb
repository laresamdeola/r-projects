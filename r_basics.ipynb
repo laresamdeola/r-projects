{
  "nbformat": 4,
  "nbformat_minor": 0,
  "metadata": {
    "colab": {
      "provenance": [],
      "authorship_tag": "ABX9TyNlcSBH2oO8YEcTHq054u1o",
      "include_colab_link": true
    },
    "kernelspec": {
      "name": "ir",
      "display_name": "R"
    },
    "language_info": {
      "name": "R"
    }
  },
  "cells": [
    {
      "cell_type": "markdown",
      "metadata": {
        "id": "view-in-github",
        "colab_type": "text"
      },
      "source": [
        "<a href=\"https://colab.research.google.com/github/laresamdeola/r-projects/blob/main/r_basics.ipynb\" target=\"_parent\"><img src=\"https://colab.research.google.com/assets/colab-badge.svg\" alt=\"Open In Colab\"/></a>"
      ]
    },
    {
      "cell_type": "code",
      "execution_count": 1,
      "metadata": {
        "id": "fTV40luB7bho"
      },
      "outputs": [],
      "source": [
        "x <- c(100,20,50,60,2,45)"
      ]
    },
    {
      "cell_type": "code",
      "source": [
        "x"
      ],
      "metadata": {
        "colab": {
          "base_uri": "https://localhost:8080/",
          "height": 34
        },
        "id": "cbulkVLB7ssA",
        "outputId": "df61dcd1-3c57-4f79-e94e-6518c6c467c4"
      },
      "execution_count": 2,
      "outputs": [
        {
          "output_type": "display_data",
          "data": {
            "text/html": [
              "<style>\n",
              ".list-inline {list-style: none; margin:0; padding: 0}\n",
              ".list-inline>li {display: inline-block}\n",
              ".list-inline>li:not(:last-child)::after {content: \"\\00b7\"; padding: 0 .5ex}\n",
              "</style>\n",
              "<ol class=list-inline><li>100</li><li>20</li><li>50</li><li>60</li><li>2</li><li>45</li></ol>\n"
            ],
            "text/markdown": "1. 100\n2. 20\n3. 50\n4. 60\n5. 2\n6. 45\n\n\n",
            "text/latex": "\\begin{enumerate*}\n\\item 100\n\\item 20\n\\item 50\n\\item 60\n\\item 2\n\\item 45\n\\end{enumerate*}\n",
            "text/plain": [
              "[1] 100  20  50  60   2  45"
            ]
          },
          "metadata": {}
        }
      ]
    },
    {
      "cell_type": "code",
      "source": [
        "print(x)"
      ],
      "metadata": {
        "colab": {
          "base_uri": "https://localhost:8080/"
        },
        "id": "6k5H2Wg-7upk",
        "outputId": "1418fd4f-c847-4fdf-8ba1-80510927abbb"
      },
      "execution_count": 3,
      "outputs": [
        {
          "output_type": "stream",
          "name": "stdout",
          "text": [
            "[1] 100  20  50  60   2  45\n"
          ]
        }
      ]
    },
    {
      "cell_type": "code",
      "source": [
        "x2 = c(100, 200, 300, 400, 500)"
      ],
      "metadata": {
        "id": "zHwtxeUT7xre"
      },
      "execution_count": 4,
      "outputs": []
    },
    {
      "cell_type": "code",
      "source": [
        "x2"
      ],
      "metadata": {
        "colab": {
          "base_uri": "https://localhost:8080/",
          "height": 34
        },
        "id": "NQLolTYZ73HD",
        "outputId": "a293c772-0b18-4598-b090-8a3fd43cd1b9"
      },
      "execution_count": 5,
      "outputs": [
        {
          "output_type": "display_data",
          "data": {
            "text/html": [
              "<style>\n",
              ".list-inline {list-style: none; margin:0; padding: 0}\n",
              ".list-inline>li {display: inline-block}\n",
              ".list-inline>li:not(:last-child)::after {content: \"\\00b7\"; padding: 0 .5ex}\n",
              "</style>\n",
              "<ol class=list-inline><li>100</li><li>200</li><li>300</li><li>400</li><li>500</li></ol>\n"
            ],
            "text/markdown": "1. 100\n2. 200\n3. 300\n4. 400\n5. 500\n\n\n",
            "text/latex": "\\begin{enumerate*}\n\\item 100\n\\item 200\n\\item 300\n\\item 400\n\\item 500\n\\end{enumerate*}\n",
            "text/plain": [
              "[1] 100 200 300 400 500"
            ]
          },
          "metadata": {}
        }
      ]
    },
    {
      "cell_type": "code",
      "source": [
        "print(x2)"
      ],
      "metadata": {
        "colab": {
          "base_uri": "https://localhost:8080/"
        },
        "id": "GtAPFuZM74i8",
        "outputId": "b0d26222-f19d-41c7-efa2-376607118427"
      },
      "execution_count": 6,
      "outputs": [
        {
          "output_type": "stream",
          "name": "stdout",
          "text": [
            "[1] 100 200 300 400 500\n"
          ]
        }
      ]
    },
    {
      "cell_type": "code",
      "source": [
        "print(mean(x2))"
      ],
      "metadata": {
        "colab": {
          "base_uri": "https://localhost:8080/"
        },
        "id": "OzytdGM578js",
        "outputId": "ee027a68-cd6e-4f24-f3ae-442b869be68a"
      },
      "execution_count": 7,
      "outputs": [
        {
          "output_type": "stream",
          "name": "stdout",
          "text": [
            "[1] 300\n"
          ]
        }
      ]
    },
    {
      "cell_type": "code",
      "source": [
        "max(x2)"
      ],
      "metadata": {
        "colab": {
          "base_uri": "https://localhost:8080/",
          "height": 34
        },
        "id": "2waMEBLM8ugB",
        "outputId": "a27d79ad-5a85-42fb-f759-d2dd49d286e5"
      },
      "execution_count": 8,
      "outputs": [
        {
          "output_type": "display_data",
          "data": {
            "text/html": [
              "500"
            ],
            "text/markdown": "500",
            "text/latex": "500",
            "text/plain": [
              "[1] 500"
            ]
          },
          "metadata": {}
        }
      ]
    },
    {
      "cell_type": "code",
      "source": [
        "min(x)"
      ],
      "metadata": {
        "colab": {
          "base_uri": "https://localhost:8080/",
          "height": 34
        },
        "id": "LvgQeuXi8xAW",
        "outputId": "040c764b-ad21-4d26-e41b-22e68028d053"
      },
      "execution_count": 9,
      "outputs": [
        {
          "output_type": "display_data",
          "data": {
            "text/html": [
              "2"
            ],
            "text/markdown": "2",
            "text/latex": "2",
            "text/plain": [
              "[1] 2"
            ]
          },
          "metadata": {}
        }
      ]
    },
    {
      "cell_type": "code",
      "source": [
        "var(x)"
      ],
      "metadata": {
        "colab": {
          "base_uri": "https://localhost:8080/",
          "height": 34
        },
        "id": "v-xMSmkW8z4p",
        "outputId": "8d59f8f8-5166-411b-c6ce-6969c53cbe91"
      },
      "execution_count": 10,
      "outputs": [
        {
          "output_type": "display_data",
          "data": {
            "text/html": [
              "1148.16666666667"
            ],
            "text/markdown": "1148.16666666667",
            "text/latex": "1148.16666666667",
            "text/plain": [
              "[1] 1148.167"
            ]
          },
          "metadata": {}
        }
      ]
    },
    {
      "cell_type": "code",
      "source": [
        "length(x)"
      ],
      "metadata": {
        "colab": {
          "base_uri": "https://localhost:8080/",
          "height": 34
        },
        "id": "nGn1k8AC80DI",
        "outputId": "f8e91b3f-c6fa-4a25-bea1-728627724904"
      },
      "execution_count": 11,
      "outputs": [
        {
          "output_type": "display_data",
          "data": {
            "text/html": [
              "6"
            ],
            "text/markdown": "6",
            "text/latex": "6",
            "text/plain": [
              "[1] 6"
            ]
          },
          "metadata": {}
        }
      ]
    },
    {
      "cell_type": "code",
      "source": [
        "sequence <- 1:10"
      ],
      "metadata": {
        "id": "9w-UrJIe80La"
      },
      "execution_count": 12,
      "outputs": []
    },
    {
      "cell_type": "code",
      "source": [
        "print(sequence)"
      ],
      "metadata": {
        "colab": {
          "base_uri": "https://localhost:8080/"
        },
        "id": "mu1TaR_Z8-t4",
        "outputId": "a6e5e39e-6f4b-48f2-c208-f3d19ea25316"
      },
      "execution_count": 13,
      "outputs": [
        {
          "output_type": "stream",
          "name": "stdout",
          "text": [
            " [1]  1  2  3  4  5  6  7  8  9 10\n"
          ]
        }
      ]
    },
    {
      "cell_type": "code",
      "source": [
        "sequence2 <- seq(from=1, to=10, by=2)"
      ],
      "metadata": {
        "id": "z_6JXRxc8-_e"
      },
      "execution_count": 17,
      "outputs": []
    },
    {
      "cell_type": "code",
      "source": [
        "print(sequence2)"
      ],
      "metadata": {
        "colab": {
          "base_uri": "https://localhost:8080/"
        },
        "id": "x_Wzy7ZJ97jh",
        "outputId": "2e7388ff-88f6-4b15-e423-a1728b0e0295"
      },
      "execution_count": 18,
      "outputs": [
        {
          "output_type": "stream",
          "name": "stdout",
          "text": [
            "[1] 1 3 5 7 9\n"
          ]
        }
      ]
    },
    {
      "cell_type": "code",
      "source": [
        "#- Logical Operators in R\n",
        "#-  <, <=, >, >=, ==, !=, &, |, !"
      ],
      "metadata": {
        "id": "m6ChmHgQ9-zt"
      },
      "execution_count": null,
      "outputs": []
    },
    {
      "cell_type": "code",
      "source": [
        "# Missing Values\n",
        "\n",
        "# NA\n",
        "# To check for this - is.na(vector)"
      ],
      "metadata": {
        "id": "_05PD9jQ9_Bl"
      },
      "execution_count": null,
      "outputs": []
    },
    {
      "cell_type": "code",
      "source": [
        "ages <- 1:10\n",
        "older <- ages[ages > 5]"
      ],
      "metadata": {
        "id": "OiEl_Drw9_Kk"
      },
      "execution_count": 19,
      "outputs": []
    },
    {
      "cell_type": "code",
      "source": [
        "older"
      ],
      "metadata": {
        "colab": {
          "base_uri": "https://localhost:8080/",
          "height": 34
        },
        "id": "2wZXGk549_Wu",
        "outputId": "795e1bae-0651-40c4-f3a5-0bfe3f119148"
      },
      "execution_count": 20,
      "outputs": [
        {
          "output_type": "display_data",
          "data": {
            "text/html": [
              "<style>\n",
              ".list-inline {list-style: none; margin:0; padding: 0}\n",
              ".list-inline>li {display: inline-block}\n",
              ".list-inline>li:not(:last-child)::after {content: \"\\00b7\"; padding: 0 .5ex}\n",
              "</style>\n",
              "<ol class=list-inline><li>6</li><li>7</li><li>8</li><li>9</li><li>10</li></ol>\n"
            ],
            "text/markdown": "1. 6\n2. 7\n3. 8\n4. 9\n5. 10\n\n\n",
            "text/latex": "\\begin{enumerate*}\n\\item 6\n\\item 7\n\\item 8\n\\item 9\n\\item 10\n\\end{enumerate*}\n",
            "text/plain": [
              "[1]  6  7  8  9 10"
            ]
          },
          "metadata": {}
        }
      ]
    },
    {
      "cell_type": "code",
      "source": [],
      "metadata": {
        "id": "4RbWts5DAXYW"
      },
      "execution_count": null,
      "outputs": []
    }
  ]
}