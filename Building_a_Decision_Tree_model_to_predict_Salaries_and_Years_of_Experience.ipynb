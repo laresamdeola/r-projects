{
  "nbformat": 4,
  "nbformat_minor": 0,
  "metadata": {
    "colab": {
      "provenance": [],
      "authorship_tag": "ABX9TyOTsnHLjYWP4M93HixNosvz",
      "include_colab_link": true
    },
    "kernelspec": {
      "name": "ir",
      "display_name": "R"
    },
    "language_info": {
      "name": "R"
    }
  },
  "cells": [
    {
      "cell_type": "markdown",
      "metadata": {
        "id": "view-in-github",
        "colab_type": "text"
      },
      "source": [
        "<a href=\"https://colab.research.google.com/github/laresamdeola/r-projects/blob/main/Building_a_Decision_Tree_model_to_predict_Salaries_and_Years_of_Experience.ipynb\" target=\"_parent\"><img src=\"https://colab.research.google.com/assets/colab-badge.svg\" alt=\"Open In Colab\"/></a>"
      ]
    },
    {
      "cell_type": "code",
      "execution_count": 1,
      "metadata": {
        "colab": {
          "base_uri": "https://localhost:8080/"
        },
        "id": "AtdEptxGVZlr",
        "outputId": "c4aa347d-c403-43eb-c9ec-fdc35cb93312"
      },
      "outputs": [
        {
          "output_type": "stream",
          "name": "stderr",
          "text": [
            "Installing package into ‘/usr/local/lib/R/site-library’\n",
            "(as ‘lib’ is unspecified)\n",
            "\n"
          ]
        }
      ],
      "source": [
        "install.packages(\"rpart\")\n",
        "library(rpart)"
      ]
    },
    {
      "cell_type": "code",
      "source": [
        "dataset = read.csv(\"Salary_Data.csv\")"
      ],
      "metadata": {
        "id": "tuB6xEvQWSlV"
      },
      "execution_count": 12,
      "outputs": []
    },
    {
      "cell_type": "code",
      "source": [
        "dataset"
      ],
      "metadata": {
        "colab": {
          "base_uri": "https://localhost:8080/",
          "height": 1000
        },
        "id": "TOPo_P-bWSuj",
        "outputId": "0b9c8180-3ae3-4f79-bab2-a25bb2b91282"
      },
      "execution_count": 13,
      "outputs": [
        {
          "output_type": "display_data",
          "data": {
            "text/html": [
              "<table class=\"dataframe\">\n",
              "<caption>A data.frame: 30 × 2</caption>\n",
              "<thead>\n",
              "\t<tr><th scope=col>YearsExperience</th><th scope=col>Salary</th></tr>\n",
              "\t<tr><th scope=col>&lt;dbl&gt;</th><th scope=col>&lt;dbl&gt;</th></tr>\n",
              "</thead>\n",
              "<tbody>\n",
              "\t<tr><td> 1.1</td><td> 39343</td></tr>\n",
              "\t<tr><td> 1.3</td><td> 46205</td></tr>\n",
              "\t<tr><td> 1.5</td><td> 37731</td></tr>\n",
              "\t<tr><td> 2.0</td><td> 43525</td></tr>\n",
              "\t<tr><td> 2.2</td><td> 39891</td></tr>\n",
              "\t<tr><td> 2.9</td><td> 56642</td></tr>\n",
              "\t<tr><td> 3.0</td><td> 60150</td></tr>\n",
              "\t<tr><td> 3.2</td><td> 54445</td></tr>\n",
              "\t<tr><td> 3.2</td><td> 64445</td></tr>\n",
              "\t<tr><td> 3.7</td><td> 57189</td></tr>\n",
              "\t<tr><td> 3.9</td><td> 63218</td></tr>\n",
              "\t<tr><td> 4.0</td><td> 55794</td></tr>\n",
              "\t<tr><td> 4.0</td><td> 56957</td></tr>\n",
              "\t<tr><td> 4.1</td><td> 57081</td></tr>\n",
              "\t<tr><td> 4.5</td><td> 61111</td></tr>\n",
              "\t<tr><td> 4.9</td><td> 67938</td></tr>\n",
              "\t<tr><td> 5.1</td><td> 66029</td></tr>\n",
              "\t<tr><td> 5.3</td><td> 83088</td></tr>\n",
              "\t<tr><td> 5.9</td><td> 81363</td></tr>\n",
              "\t<tr><td> 6.0</td><td> 93940</td></tr>\n",
              "\t<tr><td> 6.8</td><td> 91738</td></tr>\n",
              "\t<tr><td> 7.1</td><td> 98273</td></tr>\n",
              "\t<tr><td> 7.9</td><td>101302</td></tr>\n",
              "\t<tr><td> 8.2</td><td>113812</td></tr>\n",
              "\t<tr><td> 8.7</td><td>109431</td></tr>\n",
              "\t<tr><td> 9.0</td><td>105582</td></tr>\n",
              "\t<tr><td> 9.5</td><td>116969</td></tr>\n",
              "\t<tr><td> 9.6</td><td>112635</td></tr>\n",
              "\t<tr><td>10.3</td><td>122391</td></tr>\n",
              "\t<tr><td>10.5</td><td>121872</td></tr>\n",
              "</tbody>\n",
              "</table>\n"
            ],
            "text/markdown": "\nA data.frame: 30 × 2\n\n| YearsExperience &lt;dbl&gt; | Salary &lt;dbl&gt; |\n|---|---|\n|  1.1 |  39343 |\n|  1.3 |  46205 |\n|  1.5 |  37731 |\n|  2.0 |  43525 |\n|  2.2 |  39891 |\n|  2.9 |  56642 |\n|  3.0 |  60150 |\n|  3.2 |  54445 |\n|  3.2 |  64445 |\n|  3.7 |  57189 |\n|  3.9 |  63218 |\n|  4.0 |  55794 |\n|  4.0 |  56957 |\n|  4.1 |  57081 |\n|  4.5 |  61111 |\n|  4.9 |  67938 |\n|  5.1 |  66029 |\n|  5.3 |  83088 |\n|  5.9 |  81363 |\n|  6.0 |  93940 |\n|  6.8 |  91738 |\n|  7.1 |  98273 |\n|  7.9 | 101302 |\n|  8.2 | 113812 |\n|  8.7 | 109431 |\n|  9.0 | 105582 |\n|  9.5 | 116969 |\n|  9.6 | 112635 |\n| 10.3 | 122391 |\n| 10.5 | 121872 |\n\n",
            "text/latex": "A data.frame: 30 × 2\n\\begin{tabular}{ll}\n YearsExperience & Salary\\\\\n <dbl> & <dbl>\\\\\n\\hline\n\t  1.1 &  39343\\\\\n\t  1.3 &  46205\\\\\n\t  1.5 &  37731\\\\\n\t  2.0 &  43525\\\\\n\t  2.2 &  39891\\\\\n\t  2.9 &  56642\\\\\n\t  3.0 &  60150\\\\\n\t  3.2 &  54445\\\\\n\t  3.2 &  64445\\\\\n\t  3.7 &  57189\\\\\n\t  3.9 &  63218\\\\\n\t  4.0 &  55794\\\\\n\t  4.0 &  56957\\\\\n\t  4.1 &  57081\\\\\n\t  4.5 &  61111\\\\\n\t  4.9 &  67938\\\\\n\t  5.1 &  66029\\\\\n\t  5.3 &  83088\\\\\n\t  5.9 &  81363\\\\\n\t  6.0 &  93940\\\\\n\t  6.8 &  91738\\\\\n\t  7.1 &  98273\\\\\n\t  7.9 & 101302\\\\\n\t  8.2 & 113812\\\\\n\t  8.7 & 109431\\\\\n\t  9.0 & 105582\\\\\n\t  9.5 & 116969\\\\\n\t  9.6 & 112635\\\\\n\t 10.3 & 122391\\\\\n\t 10.5 & 121872\\\\\n\\end{tabular}\n",
            "text/plain": [
              "   YearsExperience Salary\n",
              "1   1.1             39343\n",
              "2   1.3             46205\n",
              "3   1.5             37731\n",
              "4   2.0             43525\n",
              "5   2.2             39891\n",
              "6   2.9             56642\n",
              "7   3.0             60150\n",
              "8   3.2             54445\n",
              "9   3.2             64445\n",
              "10  3.7             57189\n",
              "11  3.9             63218\n",
              "12  4.0             55794\n",
              "13  4.0             56957\n",
              "14  4.1             57081\n",
              "15  4.5             61111\n",
              "16  4.9             67938\n",
              "17  5.1             66029\n",
              "18  5.3             83088\n",
              "19  5.9             81363\n",
              "20  6.0             93940\n",
              "21  6.8             91738\n",
              "22  7.1             98273\n",
              "23  7.9            101302\n",
              "24  8.2            113812\n",
              "25  8.7            109431\n",
              "26  9.0            105582\n",
              "27  9.5            116969\n",
              "28  9.6            112635\n",
              "29 10.3            122391\n",
              "30 10.5            121872"
            ]
          },
          "metadata": {}
        }
      ]
    },
    {
      "cell_type": "code",
      "source": [
        "plot(dataset[[\"Salary\"]],\n",
        "     dataset[[\"YearsExperience\"]],\n",
        "     col=\"red\",\n",
        "     xlab=\"Salary\",\n",
        "     ylab=\"Years of Experience\",\n",
        "     main=\"Relationship between Salary and Years of Experience\",\n",
        "     cex=0.5,\n",
        "     pch=20)"
      ],
      "metadata": {
        "colab": {
          "base_uri": "https://localhost:8080/",
          "height": 437
        },
        "id": "LPW6tRYCWgX8",
        "outputId": "023ae2cd-55eb-42b8-ee69-b6c66cb65a3b"
      },
      "execution_count": 14,
      "outputs": [
        {
          "output_type": "display_data",
          "data": {
            "text/plain": [
              "Plot with title “Relationship between Salary and Years of Experience”"
            ],
            "image/png": "[encoded data removed]"
          },
          "metadata": {
            "image/png": {
              "width": 420,
              "height": 420
            }
          }
        }
      ]
    },
    {
      "cell_type": "code",
      "source": [
        "regressor = rpart(formula = Salary ~ .,\n",
        "                  data = dataset,\n",
        "                  control = rpart.control(minsplit = 1))"
      ],
      "metadata": {
        "id": "wa98tsR0XD1T"
      },
      "execution_count": 15,
      "outputs": []
    },
    {
      "cell_type": "code",
      "source": [
        "summary(regressor)"
      ],
      "metadata": {
        "colab": {
          "base_uri": "https://localhost:8080/"
        },
        "id": "al0owKotXjBf",
        "outputId": "a10c8c0f-d75d-4785-f623-792bd8c0709e"
      },
      "execution_count": 16,
      "outputs": [
        {
          "output_type": "stream",
          "name": "stdout",
          "text": [
            "Call:\n",
            "rpart(formula = Salary ~ ., data = dataset, control = rpart.control(minsplit = 1))\n",
            "  n= 30 \n",
            "\n",
            "         CP nsplit rel error   xerror      xstd\n",
            "1 0.8268501      0 1.0000000 1.112903 0.1664062\n",
            "2 0.0100000      1 0.1731499 1.112903 0.1664062\n",
            "\n",
            "Variable importance\n",
            "YearsExperience \n",
            "            100 \n",
            "\n",
            "Node number 1: 30 observations,    complexity param=0.8268501\n",
            "  mean=76003, MSE=7.264993e+08 \n",
            "  left son=2 (17 obs) right son=3 (13 obs)\n",
            "  Primary splits:\n",
            "      YearsExperience < 5.2 to the left,  improve=0.8268501, (0 missing)\n",
            "\n",
            "Node number 2: 17 observations\n",
            "  mean=54570.24, MSE=8.845632e+07 \n",
            "\n",
            "Node number 3: 13 observations\n",
            "  mean=104030.5, MSE=1.746185e+08 \n",
            "\n"
          ]
        }
      ]
    },
    {
      "cell_type": "code",
      "source": [
        "#y_pred = predict(regressor, data.frame(Level = 6.5))"
      ],
      "metadata": {
        "colab": {
          "base_uri": "https://localhost:8080/",
          "height": 262
        },
        "id": "R8w_LRn_WS33",
        "outputId": "9833a1ee-c75d-4375-fddc-ee7bca07aa8e"
      },
      "execution_count": 18,
      "outputs": [
        {
          "output_type": "error",
          "ename": "ERROR",
          "evalue": "ignored",
          "traceback": [
            "Error in eval(predvars, data, env): object 'YearsExperience' not found\nTraceback:\n",
            "1. predict(regressor, data.frame(Level = 6.5))",
            "2. predict.rpart(regressor, data.frame(Level = 6.5))",
            "3. model.frame(Terms, newdata, na.action = na.action, xlev = attr(object, \n .     \"xlevels\"))",
            "4. model.frame.default(Terms, newdata, na.action = na.action, xlev = attr(object, \n .     \"xlevels\"))",
            "5. eval(predvars, data, env)",
            "6. eval(predvars, data, env)"
          ]
        }
      ]
    }
  ]
}